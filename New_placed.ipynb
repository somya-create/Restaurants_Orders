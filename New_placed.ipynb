{
 "cells": [
  {
   "cell_type": "code",
   "execution_count": 1,
   "metadata": {},
   "outputs": [],
   "source": [
    "import pandas as pd\n",
    "import json\n",
    "import numpy as np"
   ]
  },
  {
   "cell_type": "code",
   "execution_count": 2,
   "metadata": {},
   "outputs": [
    {
     "data": {
      "text/html": [
       "<div>\n",
       "<style scoped>\n",
       "    .dataframe tbody tr th:only-of-type {\n",
       "        vertical-align: middle;\n",
       "    }\n",
       "\n",
       "    .dataframe tbody tr th {\n",
       "        vertical-align: top;\n",
       "    }\n",
       "\n",
       "    .dataframe thead th {\n",
       "        text-align: right;\n",
       "    }\n",
       "</style>\n",
       "<table border=\"1\" class=\"dataframe\">\n",
       "  <thead>\n",
       "    <tr style=\"text-align: right;\">\n",
       "      <th></th>\n",
       "      <th>ORDER_ID</th>\n",
       "      <th>ORDER_DETAILS</th>\n",
       "    </tr>\n",
       "  </thead>\n",
       "  <tbody>\n",
       "    <tr>\n",
       "      <td>0</td>\n",
       "      <td>16636</td>\n",
       "      <td>[{\"mQty\": 10, \"mName\": \"Tomato\", \"Cat_id\": 2, ...</td>\n",
       "    </tr>\n",
       "    <tr>\n",
       "      <td>1</td>\n",
       "      <td>16637</td>\n",
       "      <td>[{\"mQty\": 7, \"mName\": \"Onion\", \"Cat_id\": 2, \"m...</td>\n",
       "    </tr>\n",
       "    <tr>\n",
       "      <td>2</td>\n",
       "      <td>16638</td>\n",
       "      <td>[{\"mQty\": 2, \"mName\": \"Onion\", \"Cat_id\": 2, \"m...</td>\n",
       "    </tr>\n",
       "    <tr>\n",
       "      <td>3</td>\n",
       "      <td>16639</td>\n",
       "      <td>[{\"mQty\": 10, \"mName\": \"Onion\", \"Cat_id\": 2, \"...</td>\n",
       "    </tr>\n",
       "    <tr>\n",
       "      <td>4</td>\n",
       "      <td>16640</td>\n",
       "      <td>[{\"mQty\": 10, \"mName\": \"Onion\", \"Cat_id\": 2, \"...</td>\n",
       "    </tr>\n",
       "    <tr>\n",
       "      <td>...</td>\n",
       "      <td>...</td>\n",
       "      <td>...</td>\n",
       "    </tr>\n",
       "    <tr>\n",
       "      <td>265</td>\n",
       "      <td>16913</td>\n",
       "      <td>[{\"mQty\": 5, \"mName\": \"Cabbage\", \"Cat_id\": 2, ...</td>\n",
       "    </tr>\n",
       "    <tr>\n",
       "      <td>266</td>\n",
       "      <td>16914</td>\n",
       "      <td>[{\"mQty\": 0.5, \"mName\": \"Capsicum\", \"Cat_id\": ...</td>\n",
       "    </tr>\n",
       "    <tr>\n",
       "      <td>267</td>\n",
       "      <td>16915</td>\n",
       "      <td>[{\"mQty\": 1, \"mName\": \"Capsicum\", \"Cat_id\": 2,...</td>\n",
       "    </tr>\n",
       "    <tr>\n",
       "      <td>268</td>\n",
       "      <td>16916</td>\n",
       "      <td>[{\"mQty\": 2, \"mName\": \"Broccoli\", \"Cat_id\": 1,...</td>\n",
       "    </tr>\n",
       "    <tr>\n",
       "      <td>269</td>\n",
       "      <td>16917</td>\n",
       "      <td>[{\"mQty\": 5, \"mName\": \"Capsicum\", \"Cat_id\": 2,...</td>\n",
       "    </tr>\n",
       "  </tbody>\n",
       "</table>\n",
       "<p>270 rows × 2 columns</p>\n",
       "</div>"
      ],
      "text/plain": [
       "     ORDER_ID                                      ORDER_DETAILS\n",
       "0       16636  [{\"mQty\": 10, \"mName\": \"Tomato\", \"Cat_id\": 2, ...\n",
       "1       16637  [{\"mQty\": 7, \"mName\": \"Onion\", \"Cat_id\": 2, \"m...\n",
       "2       16638  [{\"mQty\": 2, \"mName\": \"Onion\", \"Cat_id\": 2, \"m...\n",
       "3       16639  [{\"mQty\": 10, \"mName\": \"Onion\", \"Cat_id\": 2, \"...\n",
       "4       16640  [{\"mQty\": 10, \"mName\": \"Onion\", \"Cat_id\": 2, \"...\n",
       "..        ...                                                ...\n",
       "265     16913  [{\"mQty\": 5, \"mName\": \"Cabbage\", \"Cat_id\": 2, ...\n",
       "266     16914  [{\"mQty\": 0.5, \"mName\": \"Capsicum\", \"Cat_id\": ...\n",
       "267     16915  [{\"mQty\": 1, \"mName\": \"Capsicum\", \"Cat_id\": 2,...\n",
       "268     16916  [{\"mQty\": 2, \"mName\": \"Broccoli\", \"Cat_id\": 1,...\n",
       "269     16917  [{\"mQty\": 5, \"mName\": \"Capsicum\", \"Cat_id\": 2,...\n",
       "\n",
       "[270 rows x 2 columns]"
      ]
     },
     "execution_count": 2,
     "metadata": {},
     "output_type": "execute_result"
    }
   ],
   "source": [
    "#reading the file to work on through pandas\n",
    "sheet_order_placed = pd.read_csv(\"New_order_placed.csv\",low_memory=False)\n",
    "sheet_order_placed"
   ]
  },
  {
   "cell_type": "code",
   "execution_count": null,
   "metadata": {},
   "outputs": [],
   "source": []
  }
 ],
 "metadata": {
  "kernelspec": {
   "display_name": "Python 3",
   "language": "python",
   "name": "python3"
  },
  "language_info": {
   "codemirror_mode": {
    "name": "ipython",
    "version": 3
   },
   "file_extension": ".py",
   "mimetype": "text/x-python",
   "name": "python",
   "nbconvert_exporter": "python",
   "pygments_lexer": "ipython3",
   "version": "3.7.4"
  }
 },
 "nbformat": 4,
 "nbformat_minor": 2
}
